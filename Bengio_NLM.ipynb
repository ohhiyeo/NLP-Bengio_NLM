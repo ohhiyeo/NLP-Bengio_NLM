{
  "nbformat": 4,
  "nbformat_minor": 0,
  "metadata": {
    "colab": {
      "name": "Bengio-NN.ipynb",
      "provenance": [],
      "collapsed_sections": [],
      "toc_visible": true
    },
    "kernelspec": {
      "name": "python3",
      "display_name": "Python 3"
    }
  },
  "cells": [
    {
      "cell_type": "markdown",
      "metadata": {
        "id": "dQ0Hl4aY8m5e"
      },
      "source": [
        "**Natural Language Processing**\n",
        "\n",
        "**Bengio et al.'s Neural Language Model**\n",
        "\n",
        "Warning! This program trains a neural network on a large dataset. Training can take a long time."
      ]
    },
    {
      "cell_type": "markdown",
      "metadata": {
        "id": "RaWA05m18WtZ"
      },
      "source": [
        "# Getting Started"
      ]
    },
    {
      "cell_type": "markdown",
      "metadata": {
        "id": "yjFIUJko9r61"
      },
      "source": [
        "We are going to implement Bengio et al.'s 2003 neural language model. This model will allow us to train word embeddings that we will use to perform some interesting tasks later in the program.\n",
        "\n",
        "We will be using PyTorch, but we will implement the neural network from scratch in this program (as opposed to using the prebuilt layers in PyTorch's neural network module)."
      ]
    },
    {
      "cell_type": "markdown",
      "metadata": {
        "id": "x3nLry2U82G3"
      },
      "source": [
        "## Install Libraries and Download the Training Data"
      ]
    },
    {
      "cell_type": "code",
      "metadata": {
        "id": "IMxVYEJD8j6j",
        "colab": {
          "base_uri": "https://localhost:8080/"
        },
        "outputId": "144cca6d-04d0-4cf9-c533-f45a90877cbd"
      },
      "source": [
        "import nltk\n",
        "\n",
        "nltk.download('brown')\n",
        "\n",
        "from nltk.corpus import brown"
      ],
      "execution_count": 3,
      "outputs": [
        {
          "output_type": "stream",
          "text": [
            "[nltk_data] Downloading package brown to /root/nltk_data...\n",
            "[nltk_data]   Package brown is already up-to-date!\n"
          ],
          "name": "stdout"
        }
      ]
    },
    {
      "cell_type": "markdown",
      "metadata": {
        "id": "UC4LxcEs_hB4"
      },
      "source": [
        "# Loading and Preprocessing the Data"
      ]
    },
    {
      "cell_type": "markdown",
      "metadata": {
        "id": "hNO-kEd7_qCA"
      },
      "source": [
        "First we load the training corpus using the code snippet below. We are using the Brown corpus. Because of runtime and memory constraints, we will only use one third of it for training."
      ]
    },
    {
      "cell_type": "code",
      "metadata": {
        "id": "OLUEobRV_2BO",
        "colab": {
          "base_uri": "https://localhost:8080/"
        },
        "outputId": "34f9315a-c8ed-4c03-8797-ee2bb289f260"
      },
      "source": [
        "brown_corpus = brown.sents()\n",
        "brown_corpus = brown_corpus[:int(len(brown_corpus)/3)]\n",
        "print(brown_corpus[0])"
      ],
      "execution_count": 2,
      "outputs": [
        {
          "output_type": "stream",
          "text": [
            "['The', 'Fulton', 'County', 'Grand', 'Jury', 'said', 'Friday', 'an', 'investigation', 'of', \"Atlanta's\", 'recent', 'primary', 'election', 'produced', '``', 'no', 'evidence', \"''\", 'that', 'any', 'irregularities', 'took', 'place', '.']\n"
          ],
          "name": "stdout"
        }
      ]
    },
    {
      "cell_type": "markdown",
      "metadata": {
        "id": "rIFyW_kPAQnP"
      },
      "source": [
        "We can see that `brown_corpus` has already had sentence segmentation and word tokenization done for us. It is given to us as a list of lists (aka. sentences) of strings (aka. words). "
      ]
    },
    {
      "cell_type": "markdown",
      "metadata": {
        "id": "bmnAVe2LBjmL"
      },
      "source": [
        "### Lowercasing"
      ]
    },
    {
      "cell_type": "markdown",
      "metadata": {
        "id": "xQjUJsOgBnQF"
      },
      "source": [
        "As with most word embedding models, we will convert all words to lower case. There is one complication, which is that `brown_corpus` is not a \"normal\" list of lists; it is actually an NLTK class called `ConcatenatedCorpusView` that is immutable, so we can't do the lowercasing in place. We must create a new list of lists to hold the lowercased version of the corpus."
      ]
    },
    {
      "cell_type": "code",
      "metadata": {
        "id": "ZPV8McslA-H_",
        "colab": {
          "base_uri": "https://localhost:8080/"
        },
        "outputId": "38906a0a-80b0-48af-b224-28498a85fd1d"
      },
      "source": [
        "# The argument original_corpus is an nltk.corpus.reader.util.ConcatenatedCorpusView\n",
        "# The return type should be a list of lists of strings \n",
        "def lowercase_corpus(original_corpus):\n",
        "  sentences = []\n",
        "  for sent in original_corpus:\n",
        "    s = []\n",
        "    for word in sent:\n",
        "      word = word.lower()\n",
        "      s.append(word)\n",
        "    sentences.append(s)\n",
        "  return sentences\n",
        "\n",
        "corpus = lowercase_corpus(brown_corpus)\n",
        "print(corpus[0])\n"
      ],
      "execution_count": 4,
      "outputs": [
        {
          "output_type": "stream",
          "text": [
            "['the', 'fulton', 'county', 'grand', 'jury', 'said', 'friday', 'an', 'investigation', 'of', \"atlanta's\", 'recent', 'primary', 'election', 'produced', '``', 'no', 'evidence', \"''\", 'that', 'any', 'irregularities', 'took', 'place', '.']\n"
          ],
          "name": "stdout"
        }
      ]
    },
    {
      "cell_type": "markdown",
      "metadata": {
        "id": "lSa-jXjMBuKJ"
      },
      "source": [
        "### The Vocabulary and Unknown Word Token"
      ]
    },
    {
      "cell_type": "markdown",
      "metadata": {
        "id": "m16FtSkxCaaN"
      },
      "source": [
        "Next we need to get the vocabulary of the training corpus. We also want to have an unknown word token `<unk>` so that we have at least some kind of embedding for out-of-vocabulary words that weren't seen at training time.\n",
        "\n",
        "First, let's count how often each word occurs in the training data. "
      ]
    },
    {
      "cell_type": "code",
      "metadata": {
        "id": "BVpJg3O3D0lP",
        "colab": {
          "base_uri": "https://localhost:8080/"
        },
        "outputId": "e9cd04b9-d487-45d0-e669-b4d45ebcf03d"
      },
      "source": [
        "# The argument corpus is a list of lists of strings\n",
        "# The return type should be a dictionary (or collections.Counter)\n",
        "def get_word_counts(corpus):\n",
        "  vocab_dict = {}\n",
        "  for sent in corpus:\n",
        "    for word in sent:\n",
        "      if word not in vocab_dict:\n",
        "        vocab_dict[word] = vocab_dict.get(word,0)+1\n",
        "      else:\n",
        "        vocab_dict[word]+=1\n",
        "  return vocab_dict\n",
        "\n",
        "word_counts = get_word_counts(corpus)\n",
        "print(len(word_counts))"
      ],
      "execution_count": 5,
      "outputs": [
        {
          "output_type": "stream",
          "text": [
            "29931\n"
          ],
          "name": "stdout"
        }
      ]
    },
    {
      "cell_type": "markdown",
      "metadata": {
        "id": "lsiUSnALJbew"
      },
      "source": [
        "Many of the words in the training data are rare words, ie. they have very small counts. In fact, many words occur only once in the entire training corpus. We want to replace those words that occur only once with the meta-token `<unk>` so that we can use those words' contexts to train the unknown word token's embedding."
      ]
    },
    {
      "cell_type": "code",
      "metadata": {
        "id": "QnOaYcQTKAKq",
        "colab": {
          "base_uri": "https://localhost:8080/"
        },
        "outputId": "280a3079-38fb-41d1-fefb-0797229f62b3"
      },
      "source": [
        "# The argument corpus is a list of lists of strings\n",
        "# The argument word_counts is a dictionary (or collections.Counter)\n",
        "# No return value; modifies corpus in place\n",
        "def replace_rare_words(corpus, word_counts):\n",
        "  for sent_idx, sent in enumerate(corpus):\n",
        "    for word_idx, word in enumerate(sent):\n",
        "      if word_counts[word] is 1:\n",
        "        corpus[sent_idx][word_idx] = \"<unk>\"\n",
        "\n",
        "\n",
        "replace_rare_words(corpus, word_counts)\n",
        "new_word_counts = get_word_counts(corpus)\n",
        "print(len(new_word_counts))"
      ],
      "execution_count": 6,
      "outputs": [
        {
          "output_type": "stream",
          "text": [
            "15630\n"
          ],
          "name": "stdout"
        }
      ]
    },
    {
      "cell_type": "markdown",
      "metadata": {
        "id": "8zqPtsfjN57G"
      },
      "source": [
        "Here is a bit of code to get the new (smaller) vocabulary and also add the start and end tokens. We will train a word embedding for every word in this list."
      ]
    },
    {
      "cell_type": "code",
      "metadata": {
        "id": "G4ZS3mpetfkZ",
        "colab": {
          "base_uri": "https://localhost:8080/"
        },
        "outputId": "7e97dd1d-2599-4382-c60b-bd7b0c85bc99"
      },
      "source": [
        "vocabulary = list(new_word_counts.keys())\n",
        "vocabulary.extend(['<s>', '</s>'])\n",
        "vocabulary.sort()\n",
        "print(len(vocabulary))"
      ],
      "execution_count": 7,
      "outputs": [
        {
          "output_type": "stream",
          "text": [
            "15632\n"
          ],
          "name": "stdout"
        }
      ]
    },
    {
      "cell_type": "markdown",
      "metadata": {
        "id": "QpGhCu-6P3A8"
      },
      "source": [
        "# Formatting the Data for the Neural Network"
      ]
    },
    {
      "cell_type": "markdown",
      "metadata": {
        "id": "y2mM8a2FkqR-"
      },
      "source": [
        "Now let's format our preprocessed data so tha we can give it to a neural network as input. The input to this model is the set of $k$ context words $w_{i-k}, \\ldots, w_{i-1}$ of a given word $w_i$, where each context word is represented as a one-hot vector. "
      ]
    },
    {
      "cell_type": "markdown",
      "metadata": {
        "id": "QGYT3PKcmz2q"
      },
      "source": [
        "A one-hot vector is simply a feature vector where every position is 0 except for one, which is 1. In this case, each position in the vector corresponds to a word in the vocabulary. For example, if our vocabulary is `[\"apple\", \"banana\", \"coconut\"]`, then the vector for \"apple\" is `(1,0,0)`, while the vector for \"banana\" is `(0,1,0)`. The position that is 1 in the vector tells you which word the vector represents.\n",
        "\n",
        "So our next step is to convert a word from the training data into its one-hot vector representation. For convenience, let's first build a dictionary so that we can look up words' positions more quickly."
      ]
    },
    {
      "cell_type": "code",
      "metadata": {
        "id": "tA30dMRkpQK1"
      },
      "source": [
        "vocabulary = {vocabulary[i]:i for i in range(len(vocabulary))}"
      ],
      "execution_count": 8,
      "outputs": []
    },
    {
      "cell_type": "markdown",
      "metadata": {
        "id": "eb9JS8ZipifV"
      },
      "source": [
        "Now fill in the following code snippet to convert a word into a one-hot vector. The return type is a `torch.Tensor`, which supports many of the same functions as the `numpy.array` data type that we have previously used. See [the documentation here](https://pytorch.org/docs/stable/tensors.html)."
      ]
    },
    {
      "cell_type": "code",
      "metadata": {
        "id": "0nJVjkS8nmSk",
        "colab": {
          "base_uri": "https://localhost:8080/"
        },
        "outputId": "c026e111-31c4-4fb3-fedd-eb14a15fdee8"
      },
      "source": [
        "import torch\n",
        "\n",
        "# The argument word is a string\n",
        "# The argument vocabulary is a dictionary {string: int}\n",
        "# The return type should be a torch.Tensor of size |V|\n",
        "def convert_to_one_hot(word, vocabulary):\n",
        "  n = len(vocabulary)\n",
        "  one_hot_vec = torch.zeros([1,n],dtype = torch.float32)\n",
        "  word_idx = vocabulary[word]\n",
        "  one_hot_vec[0][word_idx] = 1\n",
        "  return one_hot_vec\n",
        "\n",
        "print(convert_to_one_hot('!', vocabulary))"
      ],
      "execution_count": 9,
      "outputs": [
        {
          "output_type": "stream",
          "text": [
            "tensor([[1., 0., 0.,  ..., 0., 0., 0.]])\n"
          ],
          "name": "stdout"
        }
      ]
    },
    {
      "cell_type": "markdown",
      "metadata": {
        "id": "ATDjJ-hildRc"
      },
      "source": [
        "Now we just need to reorganize our training data into \"n-grams\". We want to build pairs `(word, context)`, where `word` is the index of the word in the vocabulary and `context` is a list of one-hot vectors, for every word in the training data.\n",
        "\n",
        "There are a few wrinkles to keep in mind for this function: \n",
        "\n",
        "- Because the training set is so large, we don't have enough memory to hold all the one-hot context vectors for the entire training set; we need to use a generator function instead. When we train the neural network in a later section, we will want to run the training examples in random order, so we also need to randomize the order of the training pairs yielded by this function.\n",
        "\n",
        "- While we are generating \"n-grams\", we are using $k$, not $n$, where $k = n-1$. Also, remember to use the start and end tokens where necessary."
      ]
    },
    {
      "cell_type": "code",
      "metadata": {
        "id": "wP3Q6zdQuiCV",
        "colab": {
          "base_uri": "https://localhost:8080/"
        },
        "outputId": "52ac618a-4cd2-4721-e067-3fe9f916290a"
      },
      "source": [
        "import random\n",
        "\n",
        "# The argument corpus is a list of lists of strings\n",
        "# The argument vocabulary is a dictionary {string: int}\n",
        "# The argument k is an int\n",
        "# The yield type should be a list of tuples (int, list of torch.Tensors)\n",
        "def generate_training_pairs(corpus, vocabulary, k=4):\n",
        "\n",
        "  random.shuffle(corpus)\n",
        "  for sent in corpus:\n",
        "    sent = ['<s>']*k+sent+['</s>']\n",
        "    for index, word in enumerate(sent):\n",
        "      word_idx = 0\n",
        "      context_vec = []\n",
        "      if word != '<s>':\n",
        "        word_idx = vocabulary[word]\n",
        "        for i in range(index-k,index):\n",
        "          context_vec.append(convert_to_one_hot(sent[i], vocabulary))\n",
        "        yield (word_idx, context_vec)\n",
        "      \n",
        "\n",
        "for word, _ in generate_training_pairs(corpus, vocabulary):\n",
        "  print(word)\n",
        "  break\n",
        "for word, _ in generate_training_pairs(corpus, vocabulary):\n",
        "  print(word)\n",
        "  break\n",
        "for word, _ in generate_training_pairs(corpus, vocabulary):\n",
        "  print(word)\n",
        "  break"
      ],
      "execution_count": 10,
      "outputs": [
        {
          "output_type": "stream",
          "text": [
            "9702\n",
            "8770\n",
            "7629\n"
          ],
          "name": "stdout"
        }
      ]
    },
    {
      "cell_type": "markdown",
      "metadata": {
        "id": "TCXWStj16rM9"
      },
      "source": [
        "# Building the Neural Network"
      ]
    },
    {
      "cell_type": "markdown",
      "metadata": {
        "id": "6bw2yrvWiFA9"
      },
      "source": [
        "Now we are ready to build the neural network itself. Recall from lecture that Bengio et al.'s network is as follows:\n",
        "\n",
        "$\\mathbf{e}_j = \\mathbf{Ew}_j \\text{ for } j \\in [i-k, i-1]$\n",
        "\n",
        "$\\mathbf{x} = [\\mathbf{e}_{i-k}, \\ldots, \\mathbf{e}_{i-1}]$\n",
        "\n",
        "$\\mathbf{h} = \\text{tanh}(\\mathbf{W_1x} + \\mathbf{b_1})$\n",
        "\n",
        "$\\mathbf{\\hat{y}} = \\text{softmax}(\\mathbf{W_2h} + \\mathbf{b_2})$\n",
        "\n",
        "Here $\\mathbf{w_j}$ refers to the one-hot vectors we just generated for the context works. The output $\\mathbf{\\hat{y}}$ is the language model probability distribution $p(w_i | w_{i-k}, \\ldots, w_{i-1})$ over words in the vocabulary. After this network is trained, the embedding layer $\\mathbf{E}$ can be used to get word embeddings for all words in the vocabulary."
      ]
    },
    {
      "cell_type": "code",
      "metadata": {
        "id": "9Mda10Bd9wQj",
        "colab": {
          "base_uri": "https://localhost:8080/"
        },
        "outputId": "888d8e96-3b33-4565-9bd5-b0c740fb8f1b"
      },
      "source": [
        "from math import sqrt\n",
        "import torch.nn.functional\n",
        "\n",
        "# Also turn on Pytorch's automatic gradient calculations\n",
        "# The argument parameter_size is a tuple of ints\n",
        "# The return type should be a torch.Tensor\n",
        "def initialize_parameter(parameter_size):\n",
        "  weight = torch.randn(parameter_size[0],parameter_size[1],requires_grad=True)\n",
        "  torch.nn.init.xavier_normal_(weight, gain=1.0)\n",
        "  return weight\n",
        "  \n",
        "\n",
        "class NLM:\n",
        "\n",
        "  # The argument vocabulary_size is an int\n",
        "  # The argument embedding_length is an int\n",
        "  # No return value\n",
        "  def __init__(self, vocabulary_size, embedding_length=64, k=4):\n",
        "    self.embedding_length = embedding_length\n",
        "    self.E = initialize_parameter((embedding_length, vocabulary_size))\n",
        "    self.w1 = initialize_parameter((256,256)) \n",
        "    self.b1 = initialize_parameter((256,1))\n",
        "    self.w2 = initialize_parameter((vocabulary_size,256)) \n",
        "    self.b2 = initialize_parameter((vocabulary_size,1))\n",
        "\n",
        "\n",
        "  # The argument context is a list of torch.Tensors\n",
        "  # The return type should be a torch.Tensor\n",
        "  def forward_pass(self, context):\n",
        "    \n",
        "    X = torch.empty(self.embedding_length,0)\n",
        "    for index, c in enumerate(context):\n",
        "      c = torch.transpose(c,0,1)\n",
        "      if index is 0:\n",
        "        ej = torch.matmul(self.E, c)\n",
        "        X = ej\n",
        "        continue\n",
        "      ej = torch.matmul(self.E, c)\n",
        "      X = torch.cat((X,ej),0)\n",
        "\n",
        "    h_a = torch.matmul(self.w1,X)\n",
        "    h_a = torch.add(h_a,self.b1)\n",
        "    h = torch.tanh(h_a)\n",
        "    \n",
        "    y_a = torch.matmul(self.w2,h)\n",
        "    y_a = torch.add(y_a, self.b2)\n",
        "    \n",
        "    y_hat = torch.nn.functional.log_softmax(y_a,dim=0)\n",
        "   \n",
        "    return y_hat\n",
        "\n",
        "model = NLM(len(vocabulary))\n",
        "print(model)"
      ],
      "execution_count": 11,
      "outputs": [
        {
          "output_type": "stream",
          "text": [
            "<__main__.NLM object at 0x7fe8a8f59890>\n"
          ],
          "name": "stdout"
        }
      ]
    },
    {
      "cell_type": "markdown",
      "metadata": {
        "id": "XWoXjDU9AmxR"
      },
      "source": [
        "## The Parameters"
      ]
    },
    {
      "cell_type": "markdown",
      "metadata": {
        "id": "DmiF8afwAphW"
      },
      "source": [
        "Before we talk about the individual equations, let's get one quick function out of the way. Recall that a neural network's parameters are a bunch of weight matrices (usually denoted $\\mathbf{W}$) and bias vectors (usually denoted $\\mathbf{b}$). \n",
        "\n",
        "The values in these parameters need to be initialized to random, small values. Let's use Xavier initialization, where the parameter values are sampled from a normal distribution with mean 0 and variance $\\frac{2}{(n_{in} + n_{out})}$.\n",
        "\n",
        "\n",
        "- $n_{in}$ and $n_{out}$ are the incoming and outgoing dimensions of this parameter.\n",
        "\n",
        "- There is a PyTorch function called `torch.randn()` that samples random numbers from a normal distribution with mean 0 and variance 1 (ie. the standard distribution); see [the documentation here](https://pytorch.org/docs/stable/generated/torch.randn.html). We can use this function as a shortcut; all we have to do is change the variance.\n",
        "\n",
        "- We also need to enable PyTorch's automatic gradient calculations for this parameter (we don't want to have to do that calculus by hand!). Use the function `torch.Tensor.requires_grad()` before returning the initialized parameter."
      ]
    },
    {
      "cell_type": "markdown",
      "metadata": {
        "id": "IC3_6wY28fTl"
      },
      "source": [
        "## The Embedding Layer"
      ]
    },
    {
      "cell_type": "markdown",
      "metadata": {
        "id": "Qwujq8Tb8icp"
      },
      "source": [
        "$\\mathbf{e}_j = \\mathbf{Ew}_j \\text{ for } j \\in [i-k, i-1]$\n",
        "\n",
        "We can see from this equation that the embedding layer $\\mathbf{E}$ is a matrix that is multiplied with a vector $\\mathbf{w}_j$ (of length $|V|$) to produce a vector $\\mathbf{e}_j$, ie. the embedding for word $w_j$. \n",
        "\n",
        "Word embeddings can be whatever length you want, as long as you have enough data to train them. 100-300 dimensions is a common range for word embedding lengths; to save some memory and compute time, we will use just 64 dimensions for this assignment.\n",
        "\n",
        "So what are the dimensions of $\\mathbf{E}$? Here's what we know:\n",
        "\n",
        "- $\\textbf{w}_j$ is a vector of length $|V|$.\n",
        "- $\\mathbf{e}_j$ is a vector of length 64.\n",
        "\n",
        "If we rewrite the above equation in terms of dimensions, we get $(n \\times m) \\cdot (|V| \\times 1) = (64 \\times 1)$, which clearly tells us what $n$ and $m$ should be. Edit the `__init__()` function in the skeleton code to initialize $\\mathbf{E}$ with the correct dimensions.\n",
        "\n",
        "Also edit the `forward_pass()` function to implement this embedding layer equation and compute the $\\mathbf{e}_j$'s. (HINT: PyTorch provides a function `torch.matmul()` that you can use; see [the documentation here](https://pytorch.org/docs/stable/generated/torch.matmul.html).)"
      ]
    },
    {
      "cell_type": "markdown",
      "metadata": {
        "id": "412se9u8mgy1"
      },
      "source": [
        "## The Concat Layer"
      ]
    },
    {
      "cell_type": "markdown",
      "metadata": {
        "id": "6Ml3devgmnzD"
      },
      "source": [
        "$\\mathbf{x} = [\\mathbf{e}_{i-k}, \\ldots, \\mathbf{e}_{i-1}]$\n",
        "\n",
        "Actually, PyTorch does not consider concatenation to be a layer, but some neural network libraries do (like Keras). This equation is very simple: the $k$ embeddings $\\mathbf{e}_j$ from the previous section need to be concatenated together to form one extra-long vector to be used in the rest of the network. In other words, this \"layer\" takes as input `k` vectors of length `embedding_length` and outputs a single vector of length `k` $\\times$ `embedding_length`.\n",
        "\n",
        "Edit the `forward_pass()` function to implement this equation and compute $\\mathbf{x}$. (HINT: PyTorch provides a function `torch.cat()`; see [the documentation here](https://pytorch.org/docs/stable/generated/torch.cat.html).)"
      ]
    },
    {
      "cell_type": "markdown",
      "metadata": {
        "id": "FybW_-rlnyQ8"
      },
      "source": [
        "## The Hidden Layer"
      ]
    },
    {
      "cell_type": "markdown",
      "metadata": {
        "id": "JicFRgAen20p"
      },
      "source": [
        "$\\mathbf{h} = \\text{tanh}(\\mathbf{W_1x} + \\mathbf{b_1})$\n",
        "\n",
        "The Universal Approximation Theorem tells us that a neural network with a single hidden layer can model any function we want. This is that hidden layer; it computes the intermediate representation $\\mathbf{h}$. There are two parameters, the weight matrix $\\mathbf{W}_1$ and the bias vector $\\mathbf{b}_1$.\n",
        "\n",
        "Hidden layers don't usually change the representation size, so the input and output dimensions are the same for this layer. Again, we can rewrite the equation in terms of dimensions to find out what the sizes of  $\\mathbf{W}_1$ and $\\mathbf{b}_1$ should be:\n",
        "\n",
        "$(n \\times n) \\cdot (320 \\times 1) + (m \\times 1) = (320 \\times 1)$\n",
        "\n",
        "The `__init__()` function initializes $\\mathbf{W}_1$ and $\\mathbf{b}_1$, and `forward_pass()` implements this equation and compute $\\mathbf{h}$. (PyTorch provides a function `torch.tanh()` that you can use; see [the documentation here](https://pytorch.org/docs/stable/generated/torch.tanh.html).) "
      ]
    },
    {
      "cell_type": "markdown",
      "metadata": {
        "id": "Z1I3xt1atGmI"
      },
      "source": [
        "## The Output Layer"
      ]
    },
    {
      "cell_type": "markdown",
      "metadata": {
        "id": "BbFvitiftIpg"
      },
      "source": [
        "$\\mathbf{\\hat{y}} = \\text{softmax}(\\mathbf{W_2h} + \\mathbf{b_2})$\n",
        "\n",
        "Finally, we have the output layer. This layer looks a lot like the hidden layer, except it needs to output $\\mathbf{\\hat{y}}$, which is a probability distribution over the vocabulary, ie. a vector of length $|V|$.\n",
        "\n",
        "The `__init__()` function initializes $\\mathbf{W}_2$ and $\\mathbf{b}_2$, and `forward_pass()` implements this equation and compute $\\mathbf{\\hat{y}}$. \n",
        "\n",
        "There is one wrinkle, which is that we don't actually want to use a raw softmax function. PyTorch provides another function `torch.nn.functional.log_softmax()` that takes the log after applying softmax; see [the documentation here](https://pytorch.org/docs/stable/nn.functional.html#log-softmax). Since we will want to get the log probabilities for calculating cross-entropy loss later anyway, we might as well do it now and take advantage of PyTorch's implementation of the log-softmax combo (there are other advantages related to numerical stability of the implementation)."
      ]
    },
    {
      "cell_type": "markdown",
      "metadata": {
        "id": "cLbbeXbbgydn"
      },
      "source": [
        "# Training with Stochastic Gradient Descent"
      ]
    },
    {
      "cell_type": "markdown",
      "metadata": {
        "id": "jRnjFOpxhQHB"
      },
      "source": [
        "Now that we have the neural network, it's time to train using gradient descent. For ease of implementation, we will use stochastic, rather than batch or mini-batch gradient descent, and a fixed learning rate.\n",
        "\n",
        "Training with stochastic gradient descent is basically a loop that \n",
        "- runs a single training example through the network to produce the log probability distribution over the output vocabulary, aka. the forward pass over the computation graph;\n",
        "- calculates the value of the loss function using the network output and the gold standard label;\n",
        "- takes the gradient and performs backpropagation, aka. the backward pass over the computation graph; and\n",
        "- updates the parameter weights based on the gradient and the learning rate.\n",
        "\n",
        "Fill in the code snippet below by implementing this training loop. Here are some details and hints to keep in mind:\n",
        "\n",
        "- An epoch is one pass through the entire training dataset. Most neural networks take multiple epochs to converge; for simplicity, we will use a fixed number of epochs, rather than using an adaptive approach like early stopping.\n",
        "\n",
        "- We will use the standard cross-entropy loss, aka. negative log likelihood loss, for multi-class classification; our output is a probability distribution over classes (words in the vocabulary). If the gold standard word is $w_i$, then the cross-entropy loss is $- \\log p(w_i | w_{i-k}, \\ldots, w_{i-1})$. (We can get the loss very easily by using the output of `NLM.forward_pass()`.)\n",
        "\n",
        "- PyTorch provides a function `backward()` that calculates and backpropagates the gradient; see [the documentation here](https://pytorch.org/docs/stable/autograd.html#torch.autograd.backward). We can call `backward()` on any variable that contains the output of a PyTorch computation graph (ie. the loss, which is calculated directly from the output of `NLM.forward_pass()`).\n",
        "\n",
        "- To do the actual updates, we can access the gradient at a given point in the computation graph using `<parameter_name>.grad` and simply assigning it a new value.\n",
        "\n",
        "- Finally, we need to reset the gradients in the computation graph to zero before the next training example is processed. You can use the \"private\" function `<parameter_name>.grad.zero_()` to do this.\n",
        "\n",
        "Before we run this code snippet, make sure to have enough time to let it run for five to seven hours!\n"
      ]
    },
    {
      "cell_type": "code",
      "metadata": {
        "id": "217ISMA6hZGr"
      },
      "source": [
        "import datetime\n",
        "\n",
        "# The argument model is an NLM\n",
        "# The argument corpus is a list of lists of strings\n",
        "# The argument vocabulary is a dictionary {string: int}\n",
        "# The argument learning_rate is a float\n",
        "# No return value\n",
        "def train(model, corpus, vocabulary, learning_rate=0.1):\n",
        "  for word_context in generate_training_pairs(corpus, vocabulary):\n",
        "    log_y = model.forward_pass((word_context)[1])\n",
        "    loss = -log_y[(word_context)[0]]\n",
        "    loss.backward()\n",
        "  \n",
        "    with torch.no_grad():\n",
        "      model.w1 -= learning_rate*model.w1.grad\n",
        "      model.w2 -= learning_rate*model.w2.grad\n",
        "      model.E -= learning_rate*model.E.grad\n",
        "      model.b1 -= learning_rate*model.b1.grad\n",
        "      model.b2 -= learning_rate*model.b2.grad\n",
        "    \n",
        "      model.w1.grad.zero_()\n",
        "      model.w2.grad.zero_()\n",
        "      model.E.grad.zero_()\n",
        "      model.b1.grad.zero_()\n",
        "      model.b2.grad.zero_()\n",
        "\n",
        "print(datetime.datetime.now())\n",
        "train(model, corpus, vocabulary)\n",
        "print(datetime.datetime.now())"
      ],
      "execution_count": null,
      "outputs": []
    },
    {
      "cell_type": "markdown",
      "metadata": {
        "id": "CmBKlUGZy5KA"
      },
      "source": [
        "That took a long time to train! Let's save the model so we don't lose our work."
      ]
    },
    {
      "cell_type": "code",
      "metadata": {
        "id": "m-twCArSy9qO",
        "colab": {
          "base_uri": "https://localhost:8080/",
          "height": 17
        },
        "outputId": "d65eb677-b4ef-4efd-cdce-5df7d6d9beac"
      },
      "source": [
        "import pickle\n",
        "with open('bengio-nn.pickle', 'wb') as f:\n",
        "  pickle.dump(model, f)\n",
        "\n",
        "from google.colab import files\n",
        "files.download('bengio-nn.pickle')"
      ],
      "execution_count": null,
      "outputs": [
        {
          "output_type": "display_data",
          "data": {
            "application/javascript": [
              "\n",
              "    async function download(id, filename, size) {\n",
              "      if (!google.colab.kernel.accessAllowed) {\n",
              "        return;\n",
              "      }\n",
              "      const div = document.createElement('div');\n",
              "      const label = document.createElement('label');\n",
              "      label.textContent = `Downloading \"${filename}\": `;\n",
              "      div.appendChild(label);\n",
              "      const progress = document.createElement('progress');\n",
              "      progress.max = size;\n",
              "      div.appendChild(progress);\n",
              "      document.body.appendChild(div);\n",
              "\n",
              "      const buffers = [];\n",
              "      let downloaded = 0;\n",
              "\n",
              "      const channel = await google.colab.kernel.comms.open(id);\n",
              "      // Send a message to notify the kernel that we're ready.\n",
              "      channel.send({})\n",
              "\n",
              "      for await (const message of channel.messages) {\n",
              "        // Send a message to notify the kernel that we're ready.\n",
              "        channel.send({})\n",
              "        if (message.buffers) {\n",
              "          for (const buffer of message.buffers) {\n",
              "            buffers.push(buffer);\n",
              "            downloaded += buffer.byteLength;\n",
              "            progress.value = downloaded;\n",
              "          }\n",
              "        }\n",
              "      }\n",
              "      const blob = new Blob(buffers, {type: 'application/binary'});\n",
              "      const a = document.createElement('a');\n",
              "      a.href = window.URL.createObjectURL(blob);\n",
              "      a.download = filename;\n",
              "      div.appendChild(a);\n",
              "      a.click();\n",
              "      div.remove();\n",
              "    }\n",
              "  "
            ],
            "text/plain": [
              "<IPython.core.display.Javascript object>"
            ]
          },
          "metadata": {
            "tags": []
          }
        },
        {
          "output_type": "display_data",
          "data": {
            "application/javascript": [
              "download(\"download_aa1dd02d-f082-4f21-a1b8-dd574c0dcfef\", \"hw4.pickle\", 20336305)"
            ],
            "text/plain": [
              "<IPython.core.display.Javascript object>"
            ]
          },
          "metadata": {
            "tags": []
          }
        }
      ]
    },
    {
      "cell_type": "markdown",
      "metadata": {
        "id": "jI52DA3l2pOt"
      },
      "source": [
        "If you ever need to load that saved model again (eg. because your Colab session timed out or was interrupted), you can get it back easily."
      ]
    },
    {
      "cell_type": "code",
      "metadata": {
        "id": "k321GwUh22j8",
        "colab": {
          "resources": {
            "http://localhost:8080/nbextensions/google.colab/files.js": {
              "data": "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",
              "ok": true,
              "headers": [
                [
                  "content-type",
                  "application/javascript"
                ]
              ],
              "status": 200,
              "status_text": ""
            }
          },
          "base_uri": "https://localhost:8080/",
          "height": 76
        },
        "outputId": "0469573a-b8d4-403c-d333-28ec18e111c0"
      },
      "source": [
        "from google.colab import files\n",
        "import pickle\n",
        "\n",
        "uploaded_files = files.upload()\n",
        "f = list(uploaded_files.values())[0]\n",
        "model = pickle.loads(f)"
      ],
      "execution_count": 18,
      "outputs": [
        {
          "output_type": "display_data",
          "data": {
            "text/html": [
              "\n",
              "     <input type=\"file\" id=\"files-102d35b1-5693-405c-bebd-b6b8a5f09eab\" name=\"files[]\" multiple disabled\n",
              "        style=\"border:none\" />\n",
              "     <output id=\"result-102d35b1-5693-405c-bebd-b6b8a5f09eab\">\n",
              "      Upload widget is only available when the cell has been executed in the\n",
              "      current browser session. Please rerun this cell to enable.\n",
              "      </output>\n",
              "      <script src=\"/nbextensions/google.colab/files.js\"></script> "
            ],
            "text/plain": [
              "<IPython.core.display.HTML object>"
            ]
          },
          "metadata": {
            "tags": []
          }
        },
        {
          "output_type": "stream",
          "text": [
            "Saving bengio-nn.pickle to bengio-nn.pickle\n"
          ],
          "name": "stdout"
        }
      ]
    },
    {
      "cell_type": "markdown",
      "metadata": {
        "id": "S1cKAkA1lKdt"
      },
      "source": [
        "We have run the training data through the neural network once so far. One training pass through the data is called an epoch. Most neural networks require several epochs (ie. several passes through the training data) to converge. This is due to how gradient descent works: each training example updates the weights by a small amount, so it takes a large number of updates to get anywhere.\n",
        "\n",
        "If you have time, run the training snippet again multiple times to improve performance. (While it is possible to overfit by running too many epochs, it is unlikely that you will run into this problem in the amount of time alotted for this assignment.) You will need at least four to five epochs before you start to see good performance."
      ]
    },
    {
      "cell_type": "markdown",
      "metadata": {
        "id": "-x1N6qeCqm_y"
      },
      "source": [
        "# Using and Evaluating Embeddings"
      ]
    },
    {
      "cell_type": "markdown",
      "metadata": {
        "id": "9AopEAvYqpHi"
      },
      "source": [
        "Now that we have a trained model, we can use the embedding layer $\\mathbf{E}$ to get word embeddings for any word in the vocabulary."
      ]
    },
    {
      "cell_type": "code",
      "metadata": {
        "id": "-OYWAE_9qwzC"
      },
      "source": [
        "embedding_matrix = model.E"
      ],
      "execution_count": 19,
      "outputs": []
    },
    {
      "cell_type": "markdown",
      "metadata": {
        "id": "f6AQB3a-sGPz"
      },
      "source": [
        "We are going to run an intrinsic evaluation on our learned embeddings. The task is word similarity using the WordSim353 dataset from [Finkelstein et al. (2002)](https://dl.acm.org/doi/10.1145/503104.503110). The test data is in the provided file `wordsim1.tab`. The following code snippet prompts you to upload the file and then reads in the test data as a pair of lists `[(word1, word2)]` and `[gold_similarity_score]`."
      ]
    },
    {
      "cell_type": "code",
      "metadata": {
        "id": "TlSd2uKys2Kd",
        "colab": {
          "resources": {
            "http://localhost:8080/nbextensions/google.colab/files.js": {
              "data": "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",
              "ok": true,
              "headers": [
                [
                  "content-type",
                  "application/javascript"
                ]
              ],
              "status": 200,
              "status_text": ""
            }
          },
          "base_uri": "https://localhost:8080/",
          "height": 112
        },
        "outputId": "ab7d0d5f-daf1-4960-8081-ae952bc56cf6"
      },
      "source": [
        "from google.colab import files\n",
        "\n",
        "uploaded_files = files.upload()\n",
        "file_content = str(list(uploaded_files.values())[0], 'utf-8')\n",
        "\n",
        "word_pairs, gold_scores = [], []\n",
        "for line in file_content.split('\\n')[1:]:\n",
        "  if len(line) == 0:\n",
        "    continue\n",
        "\n",
        "  line = line.split()\n",
        "  word_pairs.append((line[0].lower(), line[1].lower()))\n",
        "  gold_scores.append(float(line[2]))\n",
        "\n",
        "print(word_pairs[0])\n",
        "print(gold_scores[0])"
      ],
      "execution_count": 20,
      "outputs": [
        {
          "output_type": "display_data",
          "data": {
            "text/html": [
              "\n",
              "     <input type=\"file\" id=\"files-f5f36239-cf4e-4623-bd40-a49938488e53\" name=\"files[]\" multiple disabled\n",
              "        style=\"border:none\" />\n",
              "     <output id=\"result-f5f36239-cf4e-4623-bd40-a49938488e53\">\n",
              "      Upload widget is only available when the cell has been executed in the\n",
              "      current browser session. Please rerun this cell to enable.\n",
              "      </output>\n",
              "      <script src=\"/nbextensions/google.colab/files.js\"></script> "
            ],
            "text/plain": [
              "<IPython.core.display.HTML object>"
            ]
          },
          "metadata": {
            "tags": []
          }
        },
        {
          "output_type": "stream",
          "text": [
            "Saving wordsim1.tab to wordsim1 (1).tab\n",
            "('love', 'sex')\n",
            "6.77\n"
          ],
          "name": "stdout"
        }
      ]
    },
    {
      "cell_type": "markdown",
      "metadata": {
        "id": "Xs-Bi7qAw2d0"
      },
      "source": [
        "To evaluate the quality of our word embeddings, we need to use them to score the similarity of the word pairs in the test data. We can then compare our embedding-based similarity scores to the human-annotated, gold standard similarity scores.\n",
        "\n",
        "We will use the cosine similarity between our word embeddings to predict the word similarity. Recall that cosine similarity is\n",
        "\n",
        "$\\cos(v, w) = \\cfrac{v \\cdot w}{|v| |w|}$\n",
        "\n",
        "Fill in the code snippet below to implement cosine similarity. (PyTorch provides functions `torch.dot()` and `torch.norm()` implementing the linear algebra operations.) \n",
        "\n",
        "One thing to keep in mind is, since our embeddings are `torch.Tensor`'s, the output of any calculation done with them will also be a `torch.Tensor`. Thus, the result of calculating cosine similiarity will be a `torch.Tensor` containing just one scalar value; use `item()` to get the raw value out before returning it. "
      ]
    },
    {
      "cell_type": "code",
      "metadata": {
        "id": "HCsgTh0FcA2x"
      },
      "source": [
        "# The arguments embedding1 and embedding2 are torch.Tensors\n",
        "# The return type should be a float\n",
        "def get_cosine_similarity(embedding1, embedding2):\n",
        "  cosine_similarity = (torch.dot(embedding1,embedding2))/(torch.norm(embedding1)*torch.norm(embedding2))\n",
        "  return cosine_similarity.item()"
      ],
      "execution_count": 21,
      "outputs": []
    },
    {
      "cell_type": "markdown",
      "metadata": {
        "id": "tDYH6F4HesZu"
      },
      "source": [
        "Finally, we are ready to evaluate. Since we are comparing similarity scores, which are continuous values, rather than class labels like in a classification problem, the familiar precision, recall, and F-measure metrics don't make sense here. \n",
        "\n",
        "Instead, we will use Spearman's $\\rho$, which measures rank correlation. This metric doesn't care what actual number we output as our similarity score, only that, if word pair A has a higher gold standard similarity score than word pair B, then we should predict a higher similarity score for word pair A than for word pair B. In other words, as long as our scores would sort the word pairs in the same order as the gold standard scores, we will get a high $\\rho$.\n",
        "\n",
        "We need to iterate through the test set, getting the word embeddings for each word pair and calculating the cosine similarity. Then we compare the list of gold standard similarity scores with our predicted similarity scores using `scipy.stats.spearmanr()`; see [the documentation here](https://docs.scipy.org/doc/scipy/reference/generated/scipy.stats.spearmanr.html). Fill in the following code snippet to do this:"
      ]
    },
    {
      "cell_type": "code",
      "metadata": {
        "id": "_kEBkO01ftgi",
        "colab": {
          "base_uri": "https://localhost:8080/"
        },
        "collapsed": true,
        "outputId": "2654297b-b186-4009-cda8-f5679fe8c0ec"
      },
      "source": [
        "from scipy.stats import spearmanr\n",
        "\n",
        "# The argument word_pairs is a list of tuples of strings\n",
        "# The argument gold_scores is a list of floats\n",
        "# The argument embedding matrix is a torch.Tensor\n",
        "# The argument vocabulary is a dictionary {string: int}\n",
        "# The return type should be a scipy.stats.SpearmanrResult\n",
        "def evaluate_wordsim(word_pairs, gold_scores, embedding_matrix, vocabulary):\n",
        "  similarity_list=[]\n",
        "  for pairs in word_pairs:\n",
        "    if pairs[0] not in vocabulary:\n",
        "      word_one_index = vocabulary[\"<unk>\"]\n",
        "    else:\n",
        "      word_one_index = vocabulary[pairs[0]]\n",
        "    if pairs[1] not in vocabulary:\n",
        "      word_two_index = vocabulary[\"<unk>\"]\n",
        "    else:\n",
        "      word_two_index = vocabulary[pairs[1]]\n",
        "      \n",
        "    e_one = embedding_matrix[:,word_one_index]\n",
        "    e_two = embedding_matrix[:,word_two_index]\n",
        "    similarity_list.append(get_cosine_similarity(e_one,e_two))\n",
        "  return spearmanr(similarity_list,gold_scores)\n",
        "\n",
        "print(evaluate_wordsim(word_pairs, gold_scores, embedding_matrix, vocabulary))"
      ],
      "execution_count": 17,
      "outputs": [
        {
          "output_type": "stream",
          "text": [
            "SpearmanrResult(correlation=0.21827346965392758, pvalue=0.006717874653247462)\n"
          ],
          "name": "stdout"
        }
      ]
    },
    {
      "cell_type": "markdown",
      "metadata": {
        "id": "AtAPqxbXmD8-"
      },
      "source": [
        "All done! Make sure your model is saved, and use the \"File\" menu to download this notebook."
      ]
    }
  ]
}
